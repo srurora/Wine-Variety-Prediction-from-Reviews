{
  "nbformat": 4,
  "nbformat_minor": 0,
  "metadata": {
    "colab": {
      "name": "Wine_Prediction.ipynb",
      "provenance": [],
      "collapsed_sections": [],
      "toc_visible": true
    },
    "kernelspec": {
      "name": "python3",
      "display_name": "Python 3"
    },
    "accelerator": "GPU"
  },
  "cells": [
    {
      "cell_type": "code",
      "metadata": {
        "id": "cUXuFaIeuF2Z",
        "colab_type": "code",
        "colab": {}
      },
      "source": [
        "#importing necessary libs\n",
        "import numpy as np\n",
        "import pandas as pd\n",
        "from nltk.corpus import stopwords\n",
        "from nltk.stem.porter import PorterStemmer\n",
        "from sklearn.feature_extraction.text import CountVectorizer\n",
        "import nltk\n",
        "import string\n",
        "from wordcloud import WordCloud, STOPWORDS\n",
        "import re\n",
        "from nltk.tokenize import RegexpTokenizer"
      ],
      "execution_count": 0,
      "outputs": []
    },
    {
      "cell_type": "code",
      "metadata": {
        "id": "FFQ9BgSbusc-",
        "colab_type": "code",
        "outputId": "aa70c733-b52d-42d7-c548-a64915570838",
        "colab": {
          "resources": {
            "http://localhost:8080/nbextensions/google.colab/files.js": {
              "data": "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",
              "ok": true,
              "headers": [
                [
                  "content-type",
                  "application/javascript"
                ]
              ],
              "status": 200,
              "status_text": ""
            }
          },
          "base_uri": "https://localhost:8080/",
          "height": 74
        }
      },
      "source": [
        "#importing required training file\n",
        "from google.colab import files\n",
        "uploaded = files.upload()"
      ],
      "execution_count": 306,
      "outputs": [
        {
          "output_type": "display_data",
          "data": {
            "text/html": [
              "\n",
              "     <input type=\"file\" id=\"files-ecf5479a-9836-4a99-9b3b-caba12545aff\" name=\"files[]\" multiple disabled />\n",
              "     <output id=\"result-ecf5479a-9836-4a99-9b3b-caba12545aff\">\n",
              "      Upload widget is only available when the cell has been executed in the\n",
              "      current browser session. Please rerun this cell to enable.\n",
              "      </output>\n",
              "      <script src=\"/nbextensions/google.colab/files.js\"></script> "
            ],
            "text/plain": [
              "<IPython.core.display.HTML object>"
            ]
          },
          "metadata": {
            "tags": []
          }
        },
        {
          "output_type": "stream",
          "text": [
            "Saving train.csv to train (1).csv\n"
          ],
          "name": "stdout"
        }
      ]
    },
    {
      "cell_type": "code",
      "metadata": {
        "id": "lqHx5Ti7uuUC",
        "colab_type": "code",
        "colab": {}
      },
      "source": [
        "import io\n",
        "data = pd.read_csv(io.BytesIO(uploaded['train.csv']))"
      ],
      "execution_count": 0,
      "outputs": []
    },
    {
      "cell_type": "code",
      "metadata": {
        "id": "Gir6U9x5zWUb",
        "colab_type": "code",
        "outputId": "c15e0889-183c-4cca-b7f5-f9fb9cfc6169",
        "colab": {
          "base_uri": "https://localhost:8080/",
          "height": 336
        }
      },
      "source": [
        "#exploring the data\n",
        "data.info()"
      ],
      "execution_count": 308,
      "outputs": [
        {
          "output_type": "stream",
          "text": [
            "<class 'pandas.core.frame.DataFrame'>\n",
            "RangeIndex: 82657 entries, 0 to 82656\n",
            "Data columns (total 12 columns):\n",
            " #   Column              Non-Null Count  Dtype  \n",
            "---  ------              --------------  -----  \n",
            " 0   user_name           63264 non-null  object \n",
            " 1   country             82622 non-null  object \n",
            " 2   review_title        82657 non-null  object \n",
            " 3   review_description  82657 non-null  object \n",
            " 4   designation         59010 non-null  object \n",
            " 5   points              82657 non-null  int64  \n",
            " 6   price               77088 non-null  float64\n",
            " 7   province            82622 non-null  object \n",
            " 8   region_1            69903 non-null  object \n",
            " 9   region_2            35949 non-null  object \n",
            " 10  winery              82657 non-null  object \n",
            " 11  variety             82657 non-null  object \n",
            "dtypes: float64(1), int64(1), object(10)\n",
            "memory usage: 7.6+ MB\n"
          ],
          "name": "stdout"
        }
      ]
    },
    {
      "cell_type": "code",
      "metadata": {
        "id": "jWoyPfCBzg-8",
        "colab_type": "code",
        "colab": {
          "base_uri": "https://localhost:8080/",
          "height": 402
        },
        "outputId": "190f652b-8cf5-467d-912a-c42920de0e95"
      },
      "source": [
        "#analysis of null values\n",
        "total_null = data.isnull().sum().sort_values(ascending=False)\n",
        "missing_data = pd.concat([total_null],axis = 1,keys=['Total_null'])\n",
        "missing_data\n",
        "\n"
      ],
      "execution_count": 309,
      "outputs": [
        {
          "output_type": "execute_result",
          "data": {
            "text/html": [
              "<div>\n",
              "<style scoped>\n",
              "    .dataframe tbody tr th:only-of-type {\n",
              "        vertical-align: middle;\n",
              "    }\n",
              "\n",
              "    .dataframe tbody tr th {\n",
              "        vertical-align: top;\n",
              "    }\n",
              "\n",
              "    .dataframe thead th {\n",
              "        text-align: right;\n",
              "    }\n",
              "</style>\n",
              "<table border=\"1\" class=\"dataframe\">\n",
              "  <thead>\n",
              "    <tr style=\"text-align: right;\">\n",
              "      <th></th>\n",
              "      <th>Total_null</th>\n",
              "    </tr>\n",
              "  </thead>\n",
              "  <tbody>\n",
              "    <tr>\n",
              "      <th>region_2</th>\n",
              "      <td>46708</td>\n",
              "    </tr>\n",
              "    <tr>\n",
              "      <th>designation</th>\n",
              "      <td>23647</td>\n",
              "    </tr>\n",
              "    <tr>\n",
              "      <th>user_name</th>\n",
              "      <td>19393</td>\n",
              "    </tr>\n",
              "    <tr>\n",
              "      <th>region_1</th>\n",
              "      <td>12754</td>\n",
              "    </tr>\n",
              "    <tr>\n",
              "      <th>price</th>\n",
              "      <td>5569</td>\n",
              "    </tr>\n",
              "    <tr>\n",
              "      <th>province</th>\n",
              "      <td>35</td>\n",
              "    </tr>\n",
              "    <tr>\n",
              "      <th>country</th>\n",
              "      <td>35</td>\n",
              "    </tr>\n",
              "    <tr>\n",
              "      <th>variety</th>\n",
              "      <td>0</td>\n",
              "    </tr>\n",
              "    <tr>\n",
              "      <th>winery</th>\n",
              "      <td>0</td>\n",
              "    </tr>\n",
              "    <tr>\n",
              "      <th>points</th>\n",
              "      <td>0</td>\n",
              "    </tr>\n",
              "    <tr>\n",
              "      <th>review_description</th>\n",
              "      <td>0</td>\n",
              "    </tr>\n",
              "    <tr>\n",
              "      <th>review_title</th>\n",
              "      <td>0</td>\n",
              "    </tr>\n",
              "  </tbody>\n",
              "</table>\n",
              "</div>"
            ],
            "text/plain": [
              "                    Total_null\n",
              "region_2                 46708\n",
              "designation              23647\n",
              "user_name                19393\n",
              "region_1                 12754\n",
              "price                     5569\n",
              "province                    35\n",
              "country                     35\n",
              "variety                      0\n",
              "winery                       0\n",
              "points                       0\n",
              "review_description           0\n",
              "review_title                 0"
            ]
          },
          "metadata": {
            "tags": []
          },
          "execution_count": 309
        }
      ]
    },
    {
      "cell_type": "code",
      "metadata": {
        "id": "1CRQnK2e42du",
        "colab_type": "code",
        "colab": {
          "base_uri": "https://localhost:8080/",
          "height": 235
        },
        "outputId": "7e559256-67fc-447c-8508-7bded4fdc476"
      },
      "source": [
        "#Data-Cleaning Begins\n",
        "#since there is lot of data its better to get rid of NaN values\n",
        "data=data.dropna(subset=['price'])\n",
        "data=data.dropna(subset=['country'])\n",
        "total_null = data.isnull().sum().sort_values(ascending=False)\n",
        "total_null"
      ],
      "execution_count": 310,
      "outputs": [
        {
          "output_type": "execute_result",
          "data": {
            "text/plain": [
              "region_2              41263\n",
              "designation           21929\n",
              "user_name             18642\n",
              "region_1              11858\n",
              "variety                   0\n",
              "winery                    0\n",
              "province                  0\n",
              "price                     0\n",
              "points                    0\n",
              "review_description        0\n",
              "review_title              0\n",
              "country                   0\n",
              "dtype: int64"
            ]
          },
          "metadata": {
            "tags": []
          },
          "execution_count": 310
        }
      ]
    },
    {
      "cell_type": "code",
      "metadata": {
        "id": "o28y0Sl07EJj",
        "colab_type": "code",
        "colab": {
          "base_uri": "https://localhost:8080/",
          "height": 50
        },
        "outputId": "628b4192-295a-4c29-9746-c62399bf3c46"
      },
      "source": [
        "#finding duplicate reviews\n",
        "print(\"Total examples: \", data.shape[0])\n",
        "print(\"same title and description: \", data[data.duplicated(['review_description','review_title'])].shape[0])"
      ],
      "execution_count": 311,
      "outputs": [
        {
          "output_type": "stream",
          "text": [
            "Total examples:  77057\n",
            "same title and description:  4730\n"
          ],
          "name": "stdout"
        }
      ]
    },
    {
      "cell_type": "code",
      "metadata": {
        "id": "IUnAEOjY7Ipx",
        "colab_type": "code",
        "colab": {}
      },
      "source": [
        "#finding duplicate entries and deleting them\n",
        "data=data.drop_duplicates(['review_description','review_title'])\n",
        "data=data.reset_index(drop=True)"
      ],
      "execution_count": 0,
      "outputs": []
    },
    {
      "cell_type": "code",
      "metadata": {
        "id": "m_Xc6u8s7gtL",
        "colab_type": "code",
        "colab": {}
      },
      "source": [
        "#filling rest of the missing values with -1\n",
        "data=data.fillna(-1)"
      ],
      "execution_count": 0,
      "outputs": []
    },
    {
      "cell_type": "code",
      "metadata": {
        "id": "lTPC2BbV9Icd",
        "colab_type": "code",
        "colab": {
          "base_uri": "https://localhost:8080/",
          "height": 218
        },
        "outputId": "fa0f1c9c-f9be-4647-dc76-8c4df9a02b1a"
      },
      "source": [
        "#using the NLTK library, lowercasing all the descriptions:\n",
        "data['review_description']= data['review_description'].str.lower()\n",
        "#using regular expressions(regex library) to remove unnecessary elements like commas etc:\n",
        "data['review_description']= data['review_description'].apply(lambda x: re.sub('[^a-zA-Z]',' ', x)) \n",
        "data['review_description']\n"
      ],
      "execution_count": 314,
      "outputs": [
        {
          "output_type": "execute_result",
          "data": {
            "text/plain": [
              "0        classic chardonnay aromas of apple  pear and h...\n",
              "1        this wine is near equal parts syrah and merlot...\n",
              "2        barolo conca opens with inky dark concentratio...\n",
              "3        it s impressive what a small addition of sauvi...\n",
              "4        this ripe  sweet wine is rich and full of drie...\n",
              "                               ...                        \n",
              "72322    made in a drier  tarter style than the winery ...\n",
              "72323    hot earth  baked cherry and mild vanilla aroma...\n",
              "72324    pungent  high pitched notes of turmeric and dr...\n",
              "72325    this is a wine that s not just lively and frui...\n",
              "72326    a big  rich  vital cabernet with immediate att...\n",
              "Name: review_description, Length: 72327, dtype: object"
            ]
          },
          "metadata": {
            "tags": []
          },
          "execution_count": 314
        }
      ]
    },
    {
      "cell_type": "code",
      "metadata": {
        "id": "H-VR1dva9Mqx",
        "colab_type": "code",
        "colab": {
          "base_uri": "https://localhost:8080/",
          "height": 118
        },
        "outputId": "500813bd-d5c8-4b33-a237-018cc6a3bab1"
      },
      "source": [
        "#senetences are too large hence its important to tokenise the descriptions into list of words:\n",
        "tokenizer = RegexpTokenizer(r'\\w+')\n",
        "words_descriptions = data['review_description'].apply(tokenizer.tokenize)\n",
        "words_descriptions.head()"
      ],
      "execution_count": 315,
      "outputs": [
        {
          "output_type": "execute_result",
          "data": {
            "text/plain": [
              "0    [classic, chardonnay, aromas, of, apple, pear,...\n",
              "1    [this, wine, is, near, equal, parts, syrah, an...\n",
              "2    [barolo, conca, opens, with, inky, dark, conce...\n",
              "3    [it, s, impressive, what, a, small, addition, ...\n",
              "4    [this, ripe, sweet, wine, is, rich, and, full,...\n",
              "Name: review_description, dtype: object"
            ]
          },
          "metadata": {
            "tags": []
          },
          "execution_count": 315
        }
      ]
    },
    {
      "cell_type": "code",
      "metadata": {
        "id": "N9GDYgJv91ge",
        "colab_type": "code",
        "colab": {
          "base_uri": "https://localhost:8080/",
          "height": 34
        },
        "outputId": "6b0bc9c9-cf03-40f0-8b95-fb667682267e"
      },
      "source": [
        "#creating Vocabulary:\n",
        "all_words = [word for tokens in words_descriptions for word in tokens]\n",
        "data['description_lengths'] = [len(tokens) for tokens in words_descriptions]\n",
        "VOCAB = sorted(list(set(all_words)))\n",
        "print(\"%s are the total words and vocabulary size is  %s\" % (len(all_words), len(VOCAB)))"
      ],
      "execution_count": 316,
      "outputs": [
        {
          "output_type": "stream",
          "text": [
            "3004350 are the total words and vocabulary size is  24594\n"
          ],
          "name": "stdout"
        }
      ]
    },
    {
      "cell_type": "code",
      "metadata": {
        "id": "MKQjGT3V-aO0",
        "colab_type": "code",
        "colab": {
          "base_uri": "https://localhost:8080/",
          "height": 1000
        },
        "outputId": "6a14cdc0-ba81-4156-e888-353a0ea3658f"
      },
      "source": [
        "#finding most common words in Vocab:\n",
        "from collections import Counter\n",
        "count_all_words = Counter(all_words)\n",
        "count_all_words.most_common(90)"
      ],
      "execution_count": 317,
      "outputs": [
        {
          "output_type": "execute_result",
          "data": {
            "text/plain": [
              "[('and', 195353),\n",
              " ('the', 123890),\n",
              " ('a', 101504),\n",
              " ('of', 96298),\n",
              " ('with', 66956),\n",
              " ('this', 64002),\n",
              " ('is', 53513),\n",
              " ('it', 50510),\n",
              " ('wine', 44092),\n",
              " ('in', 36760),\n",
              " ('flavors', 36304),\n",
              " ('to', 32087),\n",
              " ('s', 30886),\n",
              " ('fruit', 27274),\n",
              " ('on', 25557),\n",
              " ('that', 22416),\n",
              " ('palate', 20582),\n",
              " ('aromas', 20045),\n",
              " ('from', 19208),\n",
              " ('finish', 19150),\n",
              " ('acidity', 18676),\n",
              " ('but', 17945),\n",
              " ('tannins', 17568),\n",
              " ('cherry', 17174),\n",
              " ('drink', 17174),\n",
              " ('black', 16566),\n",
              " ('ripe', 15082),\n",
              " ('are', 14514),\n",
              " ('has', 13552),\n",
              " ('for', 12667),\n",
              " ('red', 12331),\n",
              " ('by', 11315),\n",
              " ('oak', 10800),\n",
              " ('notes', 10475),\n",
              " ('dry', 10441),\n",
              " ('spice', 10263),\n",
              " ('as', 10178),\n",
              " ('its', 10076),\n",
              " ('now', 10033),\n",
              " ('an', 9968),\n",
              " ('rich', 9906),\n",
              " ('nose', 9345),\n",
              " ('berry', 9108),\n",
              " ('full', 9008),\n",
              " ('fresh', 8836),\n",
              " ('plum', 8140),\n",
              " ('blend', 8009),\n",
              " ('soft', 7670),\n",
              " ('sweet', 7569),\n",
              " ('well', 7552),\n",
              " ('fruits', 7412),\n",
              " ('cabernet', 7270),\n",
              " ('light', 7162),\n",
              " ('blackberry', 7149),\n",
              " ('apple', 7082),\n",
              " ('texture', 6926),\n",
              " ('dark', 6745),\n",
              " ('crisp', 6745),\n",
              " ('bodied', 6678),\n",
              " ('through', 6555),\n",
              " ('there', 6483),\n",
              " ('shows', 6393),\n",
              " ('vanilla', 6339),\n",
              " ('offers', 6321),\n",
              " ('while', 6171),\n",
              " ('at', 6055),\n",
              " ('citrus', 5865),\n",
              " ('pepper', 5832),\n",
              " ('more', 5800),\n",
              " ('white', 5730),\n",
              " ('raspberry', 5667),\n",
              " ('very', 5624),\n",
              " ('good', 5614),\n",
              " ('green', 5367),\n",
              " ('juicy', 5310),\n",
              " ('bright', 5309),\n",
              " ('fruity', 5278),\n",
              " ('lemon', 5253),\n",
              " ('some', 5222),\n",
              " ('firm', 5136),\n",
              " ('chocolate', 5023),\n",
              " ('sauvignon', 4960),\n",
              " ('balanced', 4844),\n",
              " ('will', 4802),\n",
              " ('not', 4714),\n",
              " ('like', 4685),\n",
              " ('pinot', 4608),\n",
              " ('years', 4595),\n",
              " ('touch', 4588),\n",
              " ('up', 4483)]"
            ]
          },
          "metadata": {
            "tags": []
          },
          "execution_count": 317
        }
      ]
    },
    {
      "cell_type": "code",
      "metadata": {
        "id": "FO83XH06-vWi",
        "colab_type": "code",
        "colab": {
          "base_uri": "https://localhost:8080/",
          "height": 1000
        },
        "outputId": "601f8f17-459e-4967-9376-a9dab7a938df"
      },
      "source": [
        "#analysing similar words and cleaning the review description to decrease the number of words\n",
        "import nltk\n",
        "nltk.download('stopwords')\n",
        "stopword_list = stopwords.words('english')\n",
        "ps = PorterStemmer()\n",
        "words_descriptions = words_descriptions.apply(lambda x: [word for word in x if not word in stopword_list])\n",
        "words_descriptions = words_descriptions.apply(lambda x: [ps.stem(word) for word in x])\n",
        "data['description_cleaned'] = words_descriptions.apply(lambda x: ' '.join(x))\n",
        "all_words = [word for tokens in words_descriptions for word in tokens]\n",
        "VOCAB = sorted(list(set(all_words)))\n",
        "print(\"%s words total, with a vocabulary size of %s\" % (len(all_words), len(VOCAB)))\n",
        "count_all_words = Counter(all_words)\n",
        "count_all_words.most_common(100)"
      ],
      "execution_count": 318,
      "outputs": [
        {
          "output_type": "stream",
          "text": [
            "[nltk_data] Downloading package stopwords to /root/nltk_data...\n",
            "[nltk_data]   Package stopwords is already up-to-date!\n",
            "1828191 words total, with a vocabulary size of 17417\n"
          ],
          "name": "stdout"
        },
        {
          "output_type": "execute_result",
          "data": {
            "text/plain": [
              "[('wine', 45604),\n",
              " ('flavor', 41066),\n",
              " ('fruit', 34914),\n",
              " ('finish', 22414),\n",
              " ('acid', 21491),\n",
              " ('aroma', 20866),\n",
              " ('palat', 20651),\n",
              " ('cherri', 20022),\n",
              " ('drink', 19346),\n",
              " ('tannin', 18883),\n",
              " ('black', 16588),\n",
              " ('ripe', 16117),\n",
              " ('dri', 15321),\n",
              " ('note', 13461),\n",
              " ('spice', 12861),\n",
              " ('red', 12461),\n",
              " ('rich', 12413),\n",
              " ('fresh', 11147),\n",
              " ('oak', 11128),\n",
              " ('show', 10512),\n",
              " ('berri', 10461),\n",
              " ('nose', 9354),\n",
              " ('blend', 9159),\n",
              " ('full', 9061),\n",
              " ('textur', 8909),\n",
              " ('plum', 8908),\n",
              " ('sweet', 8870),\n",
              " ('balanc', 8674),\n",
              " ('blackberri', 8640),\n",
              " ('bodi', 8488),\n",
              " ('offer', 8301),\n",
              " ('appl', 8077),\n",
              " ('soft', 7978),\n",
              " ('age', 7916),\n",
              " ('well', 7560),\n",
              " ('cabernet', 7388),\n",
              " ('light', 7376),\n",
              " ('structur', 7360),\n",
              " ('crisp', 7199),\n",
              " ('dark', 6795),\n",
              " ('raspberri', 6711),\n",
              " ('fruiti', 6593),\n",
              " ('herb', 6443),\n",
              " ('vanilla', 6339),\n",
              " ('give', 6297),\n",
              " ('hint', 6089),\n",
              " ('miner', 6029),\n",
              " ('year', 5931),\n",
              " ('pepper', 5930),\n",
              " ('citru', 5865),\n",
              " ('white', 5803),\n",
              " ('good', 5690),\n",
              " ('touch', 5675),\n",
              " ('juici', 5523),\n",
              " ('bright', 5517),\n",
              " ('lemon', 5508),\n",
              " ('green', 5477),\n",
              " ('vineyard', 5430),\n",
              " ('currant', 5394),\n",
              " ('concentr', 5382),\n",
              " ('firm', 5242),\n",
              " ('complex', 5180),\n",
              " ('like', 5118),\n",
              " ('chocol', 5024),\n",
              " ('sauvignon', 4976),\n",
              " ('pinot', 4874),\n",
              " ('feel', 4816),\n",
              " ('toast', 4807),\n",
              " ('fine', 4720),\n",
              " ('pear', 4587),\n",
              " ('come', 4520),\n",
              " ('peach', 4513),\n",
              " ('charact', 4438),\n",
              " ('bottl', 4306),\n",
              " ('spici', 4305),\n",
              " ('style', 4229),\n",
              " ('tart', 4224),\n",
              " ('merlot', 4074),\n",
              " ('make', 4056),\n",
              " ('smooth', 4056),\n",
              " ('open', 4047),\n",
              " ('tast', 4015),\n",
              " ('eleg', 3967),\n",
              " ('medium', 3865),\n",
              " ('made', 3815),\n",
              " ('wood', 3754),\n",
              " ('syrah', 3709),\n",
              " ('lime', 3706),\n",
              " ('tannic', 3655),\n",
              " ('herbal', 3651),\n",
              " ('round', 3630),\n",
              " ('lead', 3623),\n",
              " ('long', 3606),\n",
              " ('bit', 3599),\n",
              " ('mouth', 3577),\n",
              " ('chardonnay', 3526),\n",
              " ('intens', 3525),\n",
              " ('licoric', 3506),\n",
              " ('also', 3467),\n",
              " ('still', 3457)]"
            ]
          },
          "metadata": {
            "tags": []
          },
          "execution_count": 318
        }
      ]
    },
    {
      "cell_type": "code",
      "metadata": {
        "id": "DijU6kHK5M7R",
        "colab_type": "code",
        "colab": {
          "base_uri": "https://localhost:8080/",
          "height": 282
        },
        "outputId": "1e1d519e-508a-411e-deba-01e126a1357f"
      },
      "source": [
        "#visualizing length of description \n",
        "data['description_lengths'].plot.hist(bins=150)"
      ],
      "execution_count": 319,
      "outputs": [
        {
          "output_type": "execute_result",
          "data": {
            "text/plain": [
              "<matplotlib.axes._subplots.AxesSubplot at 0x7fed3a727828>"
            ]
          },
          "metadata": {
            "tags": []
          },
          "execution_count": 319
        },
        {
          "output_type": "display_data",
          "data": {
            "image/png": "[encoded data removed]",
            "text/plain": [
              "<Figure size 432x288 with 1 Axes>"
            ]
          },
          "metadata": {
            "tags": [],
            "needs_background": "light"
          }
        }
      ]
    },
    {
      "cell_type": "code",
      "metadata": {
        "id": "XGxwNif25_kV",
        "colab_type": "code",
        "colab": {
          "base_uri": "https://localhost:8080/",
          "height": 1000
        },
        "outputId": "9a9bcdbc-f676-49d0-bf0f-be58fe5ba1bc"
      },
      "source": [
        "#visualizing how description_length might affect the prediction about variety\n",
        "data.hist(column='description_lengths',by='variety',bins=60,figsize=(12,15))"
      ],
      "execution_count": 320,
      "outputs": [
        {
          "output_type": "execute_result",
          "data": {
            "text/plain": [
              "array([[<matplotlib.axes._subplots.AxesSubplot object at 0x7fed3a6c79b0>,\n",
              "        <matplotlib.axes._subplots.AxesSubplot object at 0x7fed0ce31860>,\n",
              "        <matplotlib.axes._subplots.AxesSubplot object at 0x7fed0cde1ac8>,\n",
              "        <matplotlib.axes._subplots.AxesSubplot object at 0x7fed0cd98d30>,\n",
              "        <matplotlib.axes._subplots.AxesSubplot object at 0x7fed0cdccf98>],\n",
              "       [<matplotlib.axes._subplots.AxesSubplot object at 0x7fed0cd8e240>,\n",
              "        <matplotlib.axes._subplots.AxesSubplot object at 0x7fed0cd3e4a8>,\n",
              "        <matplotlib.axes._subplots.AxesSubplot object at 0x7fed0ccf26d8>,\n",
              "        <matplotlib.axes._subplots.AxesSubplot object at 0x7fed0ccf2748>,\n",
              "        <matplotlib.axes._subplots.AxesSubplot object at 0x7fed0cc59be0>],\n",
              "       [<matplotlib.axes._subplots.AxesSubplot object at 0x7fed0cc8fe48>,\n",
              "        <matplotlib.axes._subplots.AxesSubplot object at 0x7fed0cc4e0f0>,\n",
              "        <matplotlib.axes._subplots.AxesSubplot object at 0x7fed0cc05358>,\n",
              "        <matplotlib.axes._subplots.AxesSubplot object at 0x7fed0cbb65c0>,\n",
              "        <matplotlib.axes._subplots.AxesSubplot object at 0x7fed0cb6b828>],\n",
              "       [<matplotlib.axes._subplots.AxesSubplot object at 0x7fed0cb1ea90>,\n",
              "        <matplotlib.axes._subplots.AxesSubplot object at 0x7fed0cad2cf8>,\n",
              "        <matplotlib.axes._subplots.AxesSubplot object at 0x7fed0cb08f60>,\n",
              "        <matplotlib.axes._subplots.AxesSubplot object at 0x7fed0cac71d0>,\n",
              "        <matplotlib.axes._subplots.AxesSubplot object at 0x7fed0ca79550>],\n",
              "       [<matplotlib.axes._subplots.AxesSubplot object at 0x7fed0ca2b8d0>,\n",
              "        <matplotlib.axes._subplots.AxesSubplot object at 0x7fed0c9dcc50>,\n",
              "        <matplotlib.axes._subplots.AxesSubplot object at 0x7fed0ca10fd0>,\n",
              "        <matplotlib.axes._subplots.AxesSubplot object at 0x7fed0c9cd390>,\n",
              "        <matplotlib.axes._subplots.AxesSubplot object at 0x7fed0c980710>],\n",
              "       [<matplotlib.axes._subplots.AxesSubplot object at 0x7fed0c931a90>,\n",
              "        <matplotlib.axes._subplots.AxesSubplot object at 0x7fed0c8e7e10>,\n",
              "        <matplotlib.axes._subplots.AxesSubplot object at 0x7fed0c8a41d0>,\n",
              "        <matplotlib.axes._subplots.AxesSubplot object at 0x7fed0c855550>,\n",
              "        <matplotlib.axes._subplots.AxesSubplot object at 0x7fed0c8898d0>]],\n",
              "      dtype=object)"
            ]
          },
          "metadata": {
            "tags": []
          },
          "execution_count": 320
        },
        {
          "output_type": "display_data",
          "data": {
            "image/png": "[encoded data removed]",
            "text/plain": [
              "<Figure size 864x1080 with 30 Axes>"
            ]
          },
          "metadata": {
            "tags": [],
            "needs_background": "light"
          }
        }
      ]
    },
    {
      "cell_type": "code",
      "metadata": {
        "id": "jmANJ5z76wsl",
        "colab_type": "code",
        "colab": {
          "base_uri": "https://localhost:8080/",
          "height": 118
        },
        "outputId": "28b1eda4-c8d8-429a-f319-3f05df971fcf"
      },
      "source": [
        "import string\n",
        "from nltk.corpus import stopwords\n",
        "def text_process(mess):\n",
        "    nopunc = [char for char in mess if char not in string.punctuation]\n",
        "    nopunc = ''.join(nopunc)\n",
        "    return [word for word in nopunc.split() if word.lower() not in stopwords.words('english')]\n",
        "\n",
        "data['description_cleaned'].head(5).apply(text_process)"
      ],
      "execution_count": 321,
      "outputs": [
        {
          "output_type": "execute_result",
          "data": {
            "text/plain": [
              "0    [classic, chardonnay, aroma, appl, pear, hay, ...\n",
              "1    [wine, near, equal, part, syrah, merlot, balan...\n",
              "2    [barolo, conca, open, inki, dark, concentr, so...\n",
              "3    [impress, small, addit, sauvignon, gri, muscad...\n",
              "4    [ripe, sweet, wine, rich, full, dri, fresh, fr...\n",
              "Name: description_cleaned, dtype: object"
            ]
          },
          "metadata": {
            "tags": []
          },
          "execution_count": 321
        }
      ]
    },
    {
      "cell_type": "code",
      "metadata": {
        "id": "FXL7832q7VyP",
        "colab_type": "code",
        "colab": {}
      },
      "source": [
        "#tokenize and build a vocabulary of known words\n",
        "from sklearn.feature_extraction.text import CountVectorizer\n",
        "bow_transformer = CountVectorizer(analyzer=text_process).fit(data['description_cleaned'])"
      ],
      "execution_count": 0,
      "outputs": []
    },
    {
      "cell_type": "code",
      "metadata": {
        "id": "Bxshmst08EGv",
        "colab_type": "code",
        "colab": {
          "base_uri": "https://localhost:8080/",
          "height": 34
        },
        "outputId": "47e22a1e-7458-4895-ab9b-2b802bac5e66"
      },
      "source": [
        "print(len(bow_transformer.vocabulary_))"
      ],
      "execution_count": 324,
      "outputs": [
        {
          "output_type": "stream",
          "text": [
            "17394\n"
          ],
          "name": "stdout"
        }
      ]
    },
    {
      "cell_type": "code",
      "metadata": {
        "id": "NWra4LDw9vPh",
        "colab_type": "code",
        "colab": {}
      },
      "source": [
        "#encoding the column variety\n",
        "from sklearn.compose import ColumnTransformer\n",
        "from sklearn.preprocessing import LabelEncoder, OneHotEncoder\n",
        "#le = LabelEncoder()\n",
        "#data['country'] = le.fit_transform(data['country'])\n",
        "le2 = LabelEncoder()\n",
        "data['variety'] = le2.fit_transform(data['variety'])"
      ],
      "execution_count": 0,
      "outputs": []
    },
    {
      "cell_type": "code",
      "metadata": {
        "id": "eCzrTpiu_RQx",
        "colab_type": "code",
        "colab": {
          "base_uri": "https://localhost:8080/",
          "height": 993
        },
        "outputId": "45a20568-691a-47e7-8f5d-2026309d795a"
      },
      "source": [
        "data"
      ],
      "execution_count": 326,
      "outputs": [
        {
          "output_type": "execute_result",
          "data": {
            "text/html": [
              "<div>\n",
              "<style scoped>\n",
              "    .dataframe tbody tr th:only-of-type {\n",
              "        vertical-align: middle;\n",
              "    }\n",
              "\n",
              "    .dataframe tbody tr th {\n",
              "        vertical-align: top;\n",
              "    }\n",
              "\n",
              "    .dataframe thead th {\n",
              "        text-align: right;\n",
              "    }\n",
              "</style>\n",
              "<table border=\"1\" class=\"dataframe\">\n",
              "  <thead>\n",
              "    <tr style=\"text-align: right;\">\n",
              "      <th></th>\n",
              "      <th>user_name</th>\n",
              "      <th>country</th>\n",
              "      <th>review_title</th>\n",
              "      <th>review_description</th>\n",
              "      <th>designation</th>\n",
              "      <th>points</th>\n",
              "      <th>price</th>\n",
              "      <th>province</th>\n",
              "      <th>region_1</th>\n",
              "      <th>region_2</th>\n",
              "      <th>winery</th>\n",
              "      <th>variety</th>\n",
              "      <th>description_lengths</th>\n",
              "      <th>description_cleaned</th>\n",
              "    </tr>\n",
              "  </thead>\n",
              "  <tbody>\n",
              "    <tr>\n",
              "      <th>0</th>\n",
              "      <td>-1</td>\n",
              "      <td>1</td>\n",
              "      <td>Andrew Peace 2007 Peace Family Vineyard Chardo...</td>\n",
              "      <td>classic chardonnay aromas of apple  pear and h...</td>\n",
              "      <td>Peace Family Vineyard</td>\n",
              "      <td>83</td>\n",
              "      <td>10.0</td>\n",
              "      <td>Australia Other</td>\n",
              "      <td>South Eastern Australia</td>\n",
              "      <td>-1</td>\n",
              "      <td>Andrew Peace</td>\n",
              "      <td>5</td>\n",
              "      <td>32</td>\n",
              "      <td>classic chardonnay aroma appl pear hay lead pa...</td>\n",
              "    </tr>\n",
              "    <tr>\n",
              "      <th>1</th>\n",
              "      <td>@wawinereport</td>\n",
              "      <td>35</td>\n",
              "      <td>North by Northwest 2014 Red (Columbia Valley (...</td>\n",
              "      <td>this wine is near equal parts syrah and merlot...</td>\n",
              "      <td>-1</td>\n",
              "      <td>89</td>\n",
              "      <td>15.0</td>\n",
              "      <td>Washington</td>\n",
              "      <td>Columbia Valley (WA)</td>\n",
              "      <td>Columbia Valley</td>\n",
              "      <td>North by Northwest</td>\n",
              "      <td>17</td>\n",
              "      <td>40</td>\n",
              "      <td>wine near equal part syrah merlot balanc caber...</td>\n",
              "    </tr>\n",
              "    <tr>\n",
              "      <th>2</th>\n",
              "      <td>-1</td>\n",
              "      <td>18</td>\n",
              "      <td>Renato Ratti 2007 Conca  (Barolo)</td>\n",
              "      <td>barolo conca opens with inky dark concentratio...</td>\n",
              "      <td>Conca</td>\n",
              "      <td>94</td>\n",
              "      <td>80.0</td>\n",
              "      <td>Piedmont</td>\n",
              "      <td>Barolo</td>\n",
              "      <td>-1</td>\n",
              "      <td>Renato Ratti</td>\n",
              "      <td>11</td>\n",
              "      <td>43</td>\n",
              "      <td>barolo conca open inki dark concentr sooth aro...</td>\n",
              "    </tr>\n",
              "    <tr>\n",
              "      <th>3</th>\n",
              "      <td>@vossroger</td>\n",
              "      <td>11</td>\n",
              "      <td>Domaine l'Ancienne Cure 2010 L'Abbaye White (B...</td>\n",
              "      <td>it s impressive what a small addition of sauvi...</td>\n",
              "      <td>L'Abbaye</td>\n",
              "      <td>87</td>\n",
              "      <td>22.0</td>\n",
              "      <td>Southwest France</td>\n",
              "      <td>Bergerac Sec</td>\n",
              "      <td>-1</td>\n",
              "      <td>Domaine l'Ancienne Cure</td>\n",
              "      <td>1</td>\n",
              "      <td>32</td>\n",
              "      <td>impress small addit sauvignon gri muscadel sau...</td>\n",
              "    </tr>\n",
              "    <tr>\n",
              "      <th>4</th>\n",
              "      <td>@vossroger</td>\n",
              "      <td>11</td>\n",
              "      <td>Château du Cèdre 2012 Le Cèdre Vintage Malbec ...</td>\n",
              "      <td>this ripe  sweet wine is rich and full of drie...</td>\n",
              "      <td>Le Cèdre Vintage</td>\n",
              "      <td>88</td>\n",
              "      <td>33.0</td>\n",
              "      <td>France Other</td>\n",
              "      <td>Vin de Liqueur</td>\n",
              "      <td>-1</td>\n",
              "      <td>Château du Cèdre</td>\n",
              "      <td>9</td>\n",
              "      <td>40</td>\n",
              "      <td>ripe sweet wine rich full dri fresh fruit flav...</td>\n",
              "    </tr>\n",
              "    <tr>\n",
              "      <th>...</th>\n",
              "      <td>...</td>\n",
              "      <td>...</td>\n",
              "      <td>...</td>\n",
              "      <td>...</td>\n",
              "      <td>...</td>\n",
              "      <td>...</td>\n",
              "      <td>...</td>\n",
              "      <td>...</td>\n",
              "      <td>...</td>\n",
              "      <td>...</td>\n",
              "      <td>...</td>\n",
              "      <td>...</td>\n",
              "      <td>...</td>\n",
              "      <td>...</td>\n",
              "    </tr>\n",
              "    <tr>\n",
              "      <th>72322</th>\n",
              "      <td>-1</td>\n",
              "      <td>35</td>\n",
              "      <td>La Crema 2012 Chardonnay (Arroyo Seco)</td>\n",
              "      <td>made in a drier  tarter style than the winery ...</td>\n",
              "      <td>-1</td>\n",
              "      <td>90</td>\n",
              "      <td>30.0</td>\n",
              "      <td>California</td>\n",
              "      <td>Arroyo Seco</td>\n",
              "      <td>Central Coast</td>\n",
              "      <td>La Crema</td>\n",
              "      <td>5</td>\n",
              "      <td>38</td>\n",
              "      <td>made drier tarter style wineri russian river b...</td>\n",
              "    </tr>\n",
              "    <tr>\n",
              "      <th>72323</th>\n",
              "      <td>@wineschach</td>\n",
              "      <td>32</td>\n",
              "      <td>Montecillo 2007 Crianza  (Rioja)</td>\n",
              "      <td>hot earth  baked cherry and mild vanilla aroma...</td>\n",
              "      <td>Crianza</td>\n",
              "      <td>84</td>\n",
              "      <td>12.0</td>\n",
              "      <td>Northern Spain</td>\n",
              "      <td>Rioja</td>\n",
              "      <td>-1</td>\n",
              "      <td>Montecillo</td>\n",
              "      <td>25</td>\n",
              "      <td>40</td>\n",
              "      <td>hot earth bake cherri mild vanilla aroma come ...</td>\n",
              "    </tr>\n",
              "    <tr>\n",
              "      <th>72324</th>\n",
              "      <td>-1</td>\n",
              "      <td>35</td>\n",
              "      <td>Vivác Winery 2008 Single Vineyard Cabernet Sau...</td>\n",
              "      <td>pungent  high pitched notes of turmeric and dr...</td>\n",
              "      <td>Single Vineyard</td>\n",
              "      <td>85</td>\n",
              "      <td>21.0</td>\n",
              "      <td>New Mexico</td>\n",
              "      <td>New Mexico</td>\n",
              "      <td>-1</td>\n",
              "      <td>Vivác Winery</td>\n",
              "      <td>3</td>\n",
              "      <td>38</td>\n",
              "      <td>pungent high pitch note turmer dri flower hit ...</td>\n",
              "    </tr>\n",
              "    <tr>\n",
              "      <th>72325</th>\n",
              "      <td>@vossroger</td>\n",
              "      <td>11</td>\n",
              "      <td>Domaine de la Madone 2014 Nouveau  (Beaujolais...</td>\n",
              "      <td>this is a wine that s not just lively and frui...</td>\n",
              "      <td>Nouveau</td>\n",
              "      <td>87</td>\n",
              "      <td>14.0</td>\n",
              "      <td>Beaujolais</td>\n",
              "      <td>Beaujolais-Villages</td>\n",
              "      <td>-1</td>\n",
              "      <td>Domaine de la Madone</td>\n",
              "      <td>6</td>\n",
              "      <td>29</td>\n",
              "      <td>wine live fruiti weight structur well keep ins...</td>\n",
              "    </tr>\n",
              "    <tr>\n",
              "      <th>72326</th>\n",
              "      <td>-1</td>\n",
              "      <td>35</td>\n",
              "      <td>Round Pond 2010 Estate Cabernet Sauvignon (Rut...</td>\n",
              "      <td>a big  rich  vital cabernet with immediate att...</td>\n",
              "      <td>Estate</td>\n",
              "      <td>92</td>\n",
              "      <td>50.0</td>\n",
              "      <td>California</td>\n",
              "      <td>Rutherford</td>\n",
              "      <td>Napa</td>\n",
              "      <td>Round Pond</td>\n",
              "      <td>3</td>\n",
              "      <td>61</td>\n",
              "      <td>big rich vital cabernet immedi attract decept ...</td>\n",
              "    </tr>\n",
              "  </tbody>\n",
              "</table>\n",
              "<p>72327 rows × 14 columns</p>\n",
              "</div>"
            ],
            "text/plain": [
              "           user_name  ...                                description_cleaned\n",
              "0                 -1  ...  classic chardonnay aroma appl pear hay lead pa...\n",
              "1      @wawinereport  ...  wine near equal part syrah merlot balanc caber...\n",
              "2                 -1  ...  barolo conca open inki dark concentr sooth aro...\n",
              "3         @vossroger  ...  impress small addit sauvignon gri muscadel sau...\n",
              "4         @vossroger  ...  ripe sweet wine rich full dri fresh fruit flav...\n",
              "...              ...  ...                                                ...\n",
              "72322             -1  ...  made drier tarter style wineri russian river b...\n",
              "72323    @wineschach  ...  hot earth bake cherri mild vanilla aroma come ...\n",
              "72324             -1  ...  pungent high pitch note turmer dri flower hit ...\n",
              "72325     @vossroger  ...  wine live fruiti weight structur well keep ins...\n",
              "72326             -1  ...  big rich vital cabernet immedi attract decept ...\n",
              "\n",
              "[72327 rows x 14 columns]"
            ]
          },
          "metadata": {
            "tags": []
          },
          "execution_count": 326
        }
      ]
    },
    {
      "cell_type": "code",
      "metadata": {
        "id": "csxQZNS4AHd9",
        "colab_type": "code",
        "colab": {}
      },
      "source": [
        "#training and validating the data\n",
        "from sklearn.model_selection import train_test_split\n",
        "X = data[['country','points','price','description_lengths','description_cleaned']]\n",
        "msg_train,msg_test,label_train,label_test = train_test_split(data['description_cleaned'],data['variety'],test_size=0.3)\n"
      ],
      "execution_count": 0,
      "outputs": []
    },
    {
      "cell_type": "code",
      "metadata": {
        "id": "3FbKaUIbAoqk",
        "colab_type": "code",
        "colab": {}
      },
      "source": [
        "from sklearn.pipeline import Pipeline\n",
        "from sklearn.feature_extraction.text import TfidfTransformer\n",
        "from sklearn.ensemble import RandomForestClassifier\n",
        "from sklearn.neighbors import KNeighborsClassifier"
      ],
      "execution_count": 0,
      "outputs": []
    },
    {
      "cell_type": "code",
      "metadata": {
        "id": "dJH1dGJwBK-j",
        "colab_type": "code",
        "colab": {}
      },
      "source": [
        "#assembling several steps that can be cross-validated together using Pipeline\n",
        "# 1.Transforming description into a sparse matrix of n-gram counts.\n",
        "# 2.Performs the TF-IDF transformation from a provided matrix of counts.(processed from previous step)\n",
        "# 3. Classifying using 2 methods: RandomForestClassifier and KNN\n",
        "pipeline = Pipeline([\n",
        "                     ('bow',CountVectorizer(analyzer=text_process)),\n",
        "                     ('tfid',TfidfTransformer()),\n",
        "                     ('classifier',RandomForestClassifier())\n",
        "])"
      ],
      "execution_count": 0,
      "outputs": []
    },
    {
      "cell_type": "code",
      "metadata": {
        "id": "XzkewR4NBUKq",
        "colab_type": "code",
        "colab": {}
      },
      "source": [
        "#fitting and predicting fot training set\n",
        "pipeline.fit(msg_train,label_train)\n",
        "predictions=pipeline.predict(msg_test)"
      ],
      "execution_count": 0,
      "outputs": []
    },
    {
      "cell_type": "code",
      "metadata": {
        "id": "28rTkI5jBYRL",
        "colab_type": "code",
        "colab": {
          "base_uri": "https://localhost:8080/",
          "height": 605
        },
        "outputId": "ff823ec0-5f5c-41bc-97d4-17dc2d250bdf"
      },
      "source": [
        "#printing out the classification report\n",
        "from sklearn.metrics import classification_report\n",
        "print(classification_report(label_test,predictions))\n",
        "\n",
        "\n"
      ],
      "execution_count": 331,
      "outputs": [
        {
          "output_type": "stream",
          "text": [
            "              precision    recall  f1-score   support\n",
            "\n",
            "           0       0.57      0.68      0.62      1225\n",
            "           1       0.68      0.09      0.16       146\n",
            "           2       0.87      0.12      0.21       281\n",
            "           3       0.51      0.76      0.61      2144\n",
            "           4       0.76      0.25      0.38       267\n",
            "           5       0.57      0.96      0.71      2494\n",
            "           6       0.77      0.20      0.32       181\n",
            "           7       0.92      0.42      0.58       216\n",
            "           8       0.89      0.50      0.64       250\n",
            "           9       0.64      0.36      0.46       574\n",
            "          10       0.84      0.29      0.43       670\n",
            "          11       0.69      0.65      0.67       545\n",
            "          12       0.84      0.36      0.51       231\n",
            "          13       0.94      0.33      0.49       295\n",
            "          14       0.60      0.88      0.72      2938\n",
            "          15       0.70      0.40      0.51       505\n",
            "          16       0.71      0.17      0.28       212\n",
            "          17       0.59      0.64      0.61      1903\n",
            "          18       0.76      0.44      0.56       311\n",
            "          19       0.80      0.82      0.81      1127\n",
            "          20       0.67      0.65      0.66       666\n",
            "          21       0.71      0.22      0.34       511\n",
            "          22       0.76      0.60      0.67      1078\n",
            "          23       0.86      0.42      0.57       478\n",
            "          24       0.78      0.43      0.55       932\n",
            "          25       0.58      0.21      0.31       392\n",
            "          26       0.85      0.37      0.52       492\n",
            "          27       0.89      0.44      0.59       635\n",
            "\n",
            "    accuracy                           0.63     21699\n",
            "   macro avg       0.74      0.45      0.52     21699\n",
            "weighted avg       0.67      0.63      0.60     21699\n",
            "\n"
          ],
          "name": "stdout"
        }
      ]
    },
    {
      "cell_type": "code",
      "metadata": {
        "id": "sC7WUzRrBpcG",
        "colab_type": "code",
        "colab": {
          "resources": {
            "http://localhost:8080/nbextensions/google.colab/files.js": {
              "data": "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",
              "ok": true,
              "headers": [
                [
                  "content-type",
                  "application/javascript"
                ]
              ],
              "status": 200,
              "status_text": ""
            }
          },
          "base_uri": "https://localhost:8080/",
          "height": 74
        },
        "outputId": "cc21a101-c08c-42e6-d4f4-503f841333b2"
      },
      "source": [
        "#uploading the testing file\n",
        "rom google.colab import files\n",
        "uploaded = files.upload()"
      ],
      "execution_count": 333,
      "outputs": [
        {
          "output_type": "display_data",
          "data": {
            "text/html": [
              "\n",
              "     <input type=\"file\" id=\"files-333ba53f-d19b-48f2-b28b-ae3833608f43\" name=\"files[]\" multiple disabled />\n",
              "     <output id=\"result-333ba53f-d19b-48f2-b28b-ae3833608f43\">\n",
              "      Upload widget is only available when the cell has been executed in the\n",
              "      current browser session. Please rerun this cell to enable.\n",
              "      </output>\n",
              "      <script src=\"/nbextensions/google.colab/files.js\"></script> "
            ],
            "text/plain": [
              "<IPython.core.display.HTML object>"
            ]
          },
          "metadata": {
            "tags": []
          }
        },
        {
          "output_type": "stream",
          "text": [
            "Saving test.csv to test (1).csv\n"
          ],
          "name": "stdout"
        }
      ]
    },
    {
      "cell_type": "code",
      "metadata": {
        "id": "Ed81-qIKIRlW",
        "colab_type": "code",
        "colab": {}
      },
      "source": [
        "import io\n",
        "test = pd.read_csv(io.BytesIO(uploaded['test.csv']))"
      ],
      "execution_count": 0,
      "outputs": []
    },
    {
      "cell_type": "code",
      "metadata": {
        "id": "9HijVBe9IV1k",
        "colab_type": "code",
        "colab": {}
      },
      "source": [
        "#evaluation on testing test:\n",
        "\n",
        "from sklearn.metrics import accuracy_score\n",
        "test=test.dropna(subset=['price'])\n",
        "test=test.dropna(subset=['country'])\n",
        "total_null1 = test.isnull().sum().sort_values(ascending=False)\n",
        "test=test.drop_duplicates(['review_description','review_title'])\n",
        "test=test.reset_index(drop=True)\n",
        "test=test.fillna(-1)\n",
        "#using the NLTK library, lowercasing all the descriptions:\n",
        "test['review_description']= test['review_description'].str.lower()\n",
        "#using regular expressions(regex library) to remove unnecessary elements like commas etc:\n",
        "test['review_description']= test['review_description'].apply(lambda x: re.sub('[^a-zA-Z]',' ', x)) \n",
        "#senetences are too large hence its important to tokenise the descriptions into list of words:\n",
        "tokenizer = RegexpTokenizer(r'\\w+')\n",
        "words_descriptions = test['review_description'].apply(tokenizer.tokenize)\n",
        "words_descriptions.head()\n",
        "#creating Vocabulary:\n",
        "all_words = [word for tokens in words_descriptions for word in tokens]\n",
        "test['description_lengths'] = [len(tokens) for tokens in words_descriptions]\n",
        "VOCAB = sorted(list(set(all_words)))\n",
        "from collections import Counter\n",
        "count_all_words = Counter(all_words)\n",
        "count_all_words.most_common(90)\n",
        "import nltk\n",
        "stopword_list = stopwords.words('english')\n",
        "ps = PorterStemmer()\n",
        "words_descriptions = words_descriptions.apply(lambda x: [word for word in x if not word in stopword_list])\n",
        "words_descriptions = words_descriptions.apply(lambda x: [ps.stem(word) for word in x])\n",
        "test['description_cleaned'] = words_descriptions.apply(lambda x: ' '.join(x))\n",
        "all_words = [word for tokens in words_descriptions for word in tokens]\n",
        "VOCAB = sorted(list(set(all_words)))\n",
        "#print(\"%s words total, with a vocabulary size of %s\" % (len(all_words), len(VOCAB)))\n",
        "count_all_words = Counter(all_words)\n",
        "count_all_words.most_common(100)\n",
        "import string\n",
        "from nltk.corpus import stopwords\n",
        "def text_process(mess):\n",
        "    nopunc = [char for char in mess if char not in string.punctuation]\n",
        "    nopunc = ''.join(nopunc)\n",
        "    return [word for word in nopunc.split() if word.lower() not in stopwords.words('english')]\n",
        "\n",
        "test['description_cleaned'].head(5).apply(text_process)\n",
        "from sklearn.feature_extraction.text import CountVectorizer\n",
        "bow_transformer = CountVectorizer(analyzer=text_process).fit(test['description_cleaned'])\n",
        "\n",
        "\n",
        "\n"
      ],
      "execution_count": 0,
      "outputs": []
    },
    {
      "cell_type": "code",
      "metadata": {
        "id": "ERjnrdSrI-kE",
        "colab_type": "code",
        "colab": {}
      },
      "source": [
        "#predictions for testing set\n",
        "predictions = pipeline.predict(test[\"description_cleaned\"])"
      ],
      "execution_count": 0,
      "outputs": []
    },
    {
      "cell_type": "code",
      "metadata": {
        "id": "1_aruB5lim9j",
        "colab_type": "code",
        "colab": {}
      },
      "source": [
        "#decoding the predicted values of variety\n",
        "predicted_variety= list(le2.inverse_transform(predictions))"
      ],
      "execution_count": 0,
      "outputs": []
    },
    {
      "cell_type": "code",
      "metadata": {
        "id": "9pEPzSa3ioKE",
        "colab_type": "code",
        "colab": {}
      },
      "source": [
        "#appending the predicted values back to csv file\n",
        "test['predicted_variety'] = predicted_variety"
      ],
      "execution_count": 0,
      "outputs": []
    },
    {
      "cell_type": "code",
      "metadata": {
        "id": "UyqE38IxvBZt",
        "colab_type": "code",
        "colab": {
          "base_uri": "https://localhost:8080/",
          "height": 959
        },
        "outputId": "ed9d5bf8-cbca-4568-8b2e-4a0086ee25d0"
      },
      "source": [
        "#removing unncessary columns:\n",
        "test.drop(columns=['description_lengths', 'description_cleaned'])\n",
        "test\n",
        "test.to_csv('file1.csv') \n",
        "#END"
      ],
      "execution_count": 352,
      "outputs": [
        {
          "output_type": "execute_result",
          "data": {
            "text/html": [
              "<div>\n",
              "<style scoped>\n",
              "    .dataframe tbody tr th:only-of-type {\n",
              "        vertical-align: middle;\n",
              "    }\n",
              "\n",
              "    .dataframe tbody tr th {\n",
              "        vertical-align: top;\n",
              "    }\n",
              "\n",
              "    .dataframe thead th {\n",
              "        text-align: right;\n",
              "    }\n",
              "</style>\n",
              "<table border=\"1\" class=\"dataframe\">\n",
              "  <thead>\n",
              "    <tr style=\"text-align: right;\">\n",
              "      <th></th>\n",
              "      <th>user_name</th>\n",
              "      <th>country</th>\n",
              "      <th>review_title</th>\n",
              "      <th>review_description</th>\n",
              "      <th>designation</th>\n",
              "      <th>points</th>\n",
              "      <th>price</th>\n",
              "      <th>province</th>\n",
              "      <th>region_1</th>\n",
              "      <th>region_2</th>\n",
              "      <th>winery</th>\n",
              "      <th>description_lengths</th>\n",
              "      <th>description_cleaned</th>\n",
              "      <th>predicted_variety</th>\n",
              "    </tr>\n",
              "  </thead>\n",
              "  <tbody>\n",
              "    <tr>\n",
              "      <th>0</th>\n",
              "      <td>@paulgwine</td>\n",
              "      <td>US</td>\n",
              "      <td>Boedecker Cellars 2011 Athena Pinot Noir (Will...</td>\n",
              "      <td>nicely differentiated from the companion stewa...</td>\n",
              "      <td>Athena</td>\n",
              "      <td>88</td>\n",
              "      <td>35.0</td>\n",
              "      <td>Oregon</td>\n",
              "      <td>Willamette Valley</td>\n",
              "      <td>Willamette Valley</td>\n",
              "      <td>Boedecker Cellars</td>\n",
              "      <td>41</td>\n",
              "      <td>nice differenti companion stewart bottl athena...</td>\n",
              "      <td>Pinot Noir</td>\n",
              "    </tr>\n",
              "    <tr>\n",
              "      <th>1</th>\n",
              "      <td>@wineschach</td>\n",
              "      <td>Argentina</td>\n",
              "      <td>Mendoza Vineyards 2012 Gran Reserva by Richard...</td>\n",
              "      <td>charred  smoky  herbal aromas of blackberry tr...</td>\n",
              "      <td>Gran Reserva by Richard Bonvin</td>\n",
              "      <td>90</td>\n",
              "      <td>60.0</td>\n",
              "      <td>Mendoza Province</td>\n",
              "      <td>Mendoza</td>\n",
              "      <td>-1</td>\n",
              "      <td>Mendoza Vineyards</td>\n",
              "      <td>53</td>\n",
              "      <td>char smoki herbal aroma blackberri trend direc...</td>\n",
              "      <td>Malbec</td>\n",
              "    </tr>\n",
              "    <tr>\n",
              "      <th>2</th>\n",
              "      <td>@vboone</td>\n",
              "      <td>US</td>\n",
              "      <td>Prime 2013 Chardonnay (Coombsville)</td>\n",
              "      <td>slightly sour and funky in earth  this is a re...</td>\n",
              "      <td>-1</td>\n",
              "      <td>87</td>\n",
              "      <td>38.0</td>\n",
              "      <td>California</td>\n",
              "      <td>Coombsville</td>\n",
              "      <td>Napa</td>\n",
              "      <td>Prime</td>\n",
              "      <td>45</td>\n",
              "      <td>slightli sour funki earth restrain white age m...</td>\n",
              "      <td>Chardonnay</td>\n",
              "    </tr>\n",
              "    <tr>\n",
              "      <th>3</th>\n",
              "      <td>@wineschach</td>\n",
              "      <td>Argentina</td>\n",
              "      <td>Bodega Cuarto Dominio 2012 Chento Vineyard Sel...</td>\n",
              "      <td>this concentrated  midnight black malbec deliv...</td>\n",
              "      <td>Chento Vineyard Selection</td>\n",
              "      <td>91</td>\n",
              "      <td>20.0</td>\n",
              "      <td>Mendoza Province</td>\n",
              "      <td>Mendoza</td>\n",
              "      <td>-1</td>\n",
              "      <td>Bodega Cuarto Dominio</td>\n",
              "      <td>44</td>\n",
              "      <td>concentr midnight black malbec deliv aromat go...</td>\n",
              "      <td>Malbec</td>\n",
              "    </tr>\n",
              "    <tr>\n",
              "      <th>4</th>\n",
              "      <td>@kerinokeefe</td>\n",
              "      <td>Italy</td>\n",
              "      <td>SassodiSole 2012  Brunello di Montalcino</td>\n",
              "      <td>earthy aromas suggesting grilled porcini  leat...</td>\n",
              "      <td>-1</td>\n",
              "      <td>90</td>\n",
              "      <td>49.0</td>\n",
              "      <td>Tuscany</td>\n",
              "      <td>Brunello di Montalcino</td>\n",
              "      <td>-1</td>\n",
              "      <td>SassodiSole</td>\n",
              "      <td>44</td>\n",
              "      <td>earthi aroma suggest grill porcini leather til...</td>\n",
              "      <td>Red Blend</td>\n",
              "    </tr>\n",
              "    <tr>\n",
              "      <th>...</th>\n",
              "      <td>...</td>\n",
              "      <td>...</td>\n",
              "      <td>...</td>\n",
              "      <td>...</td>\n",
              "      <td>...</td>\n",
              "      <td>...</td>\n",
              "      <td>...</td>\n",
              "      <td>...</td>\n",
              "      <td>...</td>\n",
              "      <td>...</td>\n",
              "      <td>...</td>\n",
              "      <td>...</td>\n",
              "      <td>...</td>\n",
              "      <td>...</td>\n",
              "    </tr>\n",
              "    <tr>\n",
              "      <th>18969</th>\n",
              "      <td>@gordone_cellars</td>\n",
              "      <td>US</td>\n",
              "      <td>Yorkville Cellars 2013 Rennie Vineyard Caberne...</td>\n",
              "      <td>clearly focused and fruit driven  this wine ha...</td>\n",
              "      <td>Rennie Vineyard</td>\n",
              "      <td>91</td>\n",
              "      <td>34.0</td>\n",
              "      <td>California</td>\n",
              "      <td>Yorkville Highlands</td>\n",
              "      <td>North Coast</td>\n",
              "      <td>Yorkville Cellars</td>\n",
              "      <td>45</td>\n",
              "      <td>clearli focus fruit driven wine bonanza dark f...</td>\n",
              "      <td>Chardonnay</td>\n",
              "    </tr>\n",
              "    <tr>\n",
              "      <th>18970</th>\n",
              "      <td>@laurbuzz</td>\n",
              "      <td>France</td>\n",
              "      <td>Château Ribaute 2015 Senhal d'Aric Rosé (Corbi...</td>\n",
              "      <td>herbal tones of bay and rosemary are upfront o...</td>\n",
              "      <td>Senhal d'Aric</td>\n",
              "      <td>84</td>\n",
              "      <td>20.0</td>\n",
              "      <td>Languedoc-Roussillon</td>\n",
              "      <td>Corbières</td>\n",
              "      <td>-1</td>\n",
              "      <td>Château Ribaute</td>\n",
              "      <td>41</td>\n",
              "      <td>herbal tone bay rosemari upfront nose copper p...</td>\n",
              "      <td>Rosé</td>\n",
              "    </tr>\n",
              "    <tr>\n",
              "      <th>18971</th>\n",
              "      <td>@mattkettmann</td>\n",
              "      <td>US</td>\n",
              "      <td>Daou 2014 Reserve Cabernet Sauvignon (Paso Rob...</td>\n",
              "      <td>mocha cream  pencil shaving and dried herb aro...</td>\n",
              "      <td>Reserve</td>\n",
              "      <td>94</td>\n",
              "      <td>85.0</td>\n",
              "      <td>California</td>\n",
              "      <td>Paso Robles</td>\n",
              "      <td>Central Coast</td>\n",
              "      <td>Daou</td>\n",
              "      <td>60</td>\n",
              "      <td>mocha cream pencil shave dri herb aroma set ba...</td>\n",
              "      <td>Pinot Noir</td>\n",
              "    </tr>\n",
              "    <tr>\n",
              "      <th>18972</th>\n",
              "      <td>@wineschach</td>\n",
              "      <td>Spain</td>\n",
              "      <td>Peñascal 2011 Tempranillo Rosé (Vino de la Tie...</td>\n",
              "      <td>loud citrus and berry aromas precede an overlo...</td>\n",
              "      <td>Tempranillo</td>\n",
              "      <td>80</td>\n",
              "      <td>9.0</td>\n",
              "      <td>Northern Spain</td>\n",
              "      <td>Vino de la Tierra de Castilla y León</td>\n",
              "      <td>-1</td>\n",
              "      <td>Peñascal</td>\n",
              "      <td>19</td>\n",
              "      <td>loud citru berri aroma preced overload palat c...</td>\n",
              "      <td>Malbec</td>\n",
              "    </tr>\n",
              "    <tr>\n",
              "      <th>18973</th>\n",
              "      <td>-1</td>\n",
              "      <td>US</td>\n",
              "      <td>Langtry 2005 Tephra Ridge Vineyard Cabernet Sa...</td>\n",
              "      <td>with very ripe fruit and firm tannins  this mo...</td>\n",
              "      <td>Tephra Ridge Vineyard</td>\n",
              "      <td>87</td>\n",
              "      <td>40.0</td>\n",
              "      <td>California</td>\n",
              "      <td>Lake County</td>\n",
              "      <td>-1</td>\n",
              "      <td>Langtry</td>\n",
              "      <td>34</td>\n",
              "      <td>ripe fruit firm tannin mountain cab show attra...</td>\n",
              "      <td>Cabernet Sauvignon</td>\n",
              "    </tr>\n",
              "  </tbody>\n",
              "</table>\n",
              "<p>18974 rows × 14 columns</p>\n",
              "</div>"
            ],
            "text/plain": [
              "              user_name  ...   predicted_variety\n",
              "0           @paulgwine   ...          Pinot Noir\n",
              "1           @wineschach  ...              Malbec\n",
              "2               @vboone  ...          Chardonnay\n",
              "3           @wineschach  ...              Malbec\n",
              "4          @kerinokeefe  ...           Red Blend\n",
              "...                 ...  ...                 ...\n",
              "18969  @gordone_cellars  ...          Chardonnay\n",
              "18970         @laurbuzz  ...                Rosé\n",
              "18971     @mattkettmann  ...          Pinot Noir\n",
              "18972       @wineschach  ...              Malbec\n",
              "18973                -1  ...  Cabernet Sauvignon\n",
              "\n",
              "[18974 rows x 14 columns]"
            ]
          },
          "metadata": {
            "tags": []
          },
          "execution_count": 352
        }
      ]
    },
    {
      "cell_type": "code",
      "metadata": {
        "id": "D242XpmUvDTA",
        "colab_type": "code",
        "colab": {}
      },
      "source": [
        "\n"
      ],
      "execution_count": 0,
      "outputs": []
    },
    {
      "cell_type": "code",
      "metadata": {
        "id": "5yNN3pxrwTfb",
        "colab_type": "code",
        "colab": {}
      },
      "source": [
        ""
      ],
      "execution_count": 0,
      "outputs": []
    }
  ]
}